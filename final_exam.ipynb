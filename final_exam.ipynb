{
 "cells": [
  {
   "cell_type": "code",
   "execution_count": 37,
   "id": "73aebed8",
   "metadata": {},
   "outputs": [
    {
     "data": {
      "text/html": [
       "<div>\n",
       "<style scoped>\n",
       "    .dataframe tbody tr th:only-of-type {\n",
       "        vertical-align: middle;\n",
       "    }\n",
       "\n",
       "    .dataframe tbody tr th {\n",
       "        vertical-align: top;\n",
       "    }\n",
       "\n",
       "    .dataframe thead th {\n",
       "        text-align: right;\n",
       "    }\n",
       "</style>\n",
       "<table border=\"1\" class=\"dataframe\">\n",
       "  <thead>\n",
       "    <tr style=\"text-align: right;\">\n",
       "      <th></th>\n",
       "      <th>EmployeeID</th>\n",
       "      <th>JobRole</th>\n",
       "      <th>Department</th>\n",
       "      <th>Age</th>\n",
       "      <th>YearsExperience</th>\n",
       "      <th>SalaryBeforeTraining</th>\n",
       "      <th>SalaryAfterTraining</th>\n",
       "      <th>NumberOfProjects</th>\n",
       "      <th>PerformanceScore</th>\n",
       "      <th>TrainingHours</th>\n",
       "      <th>EducationLevel</th>\n",
       "      <th>RemoteWork</th>\n",
       "      <th>SatisfactionLevel</th>\n",
       "      <th>Certification</th>\n",
       "      <th>Gender</th>\n",
       "      <th>DepartmentSize</th>\n",
       "    </tr>\n",
       "  </thead>\n",
       "  <tbody>\n",
       "    <tr>\n",
       "      <th>0</th>\n",
       "      <td>1</td>\n",
       "      <td>Developer</td>\n",
       "      <td>IT</td>\n",
       "      <td>27</td>\n",
       "      <td>4.2</td>\n",
       "      <td>46241.46</td>\n",
       "      <td>51625.56</td>\n",
       "      <td>1</td>\n",
       "      <td>2.29</td>\n",
       "      <td>5.22</td>\n",
       "      <td>High School</td>\n",
       "      <td>Yes</td>\n",
       "      <td>Medium</td>\n",
       "      <td>Yes</td>\n",
       "      <td>Female</td>\n",
       "      <td>Small</td>\n",
       "    </tr>\n",
       "    <tr>\n",
       "      <th>1</th>\n",
       "      <td>2</td>\n",
       "      <td>Analyst</td>\n",
       "      <td>HR</td>\n",
       "      <td>26</td>\n",
       "      <td>3.2</td>\n",
       "      <td>81406.22</td>\n",
       "      <td>85787.99</td>\n",
       "      <td>2</td>\n",
       "      <td>1.74</td>\n",
       "      <td>16.09</td>\n",
       "      <td>Master's</td>\n",
       "      <td>Yes</td>\n",
       "      <td>Low</td>\n",
       "      <td>No</td>\n",
       "      <td>Male</td>\n",
       "      <td>Medium</td>\n",
       "    </tr>\n",
       "    <tr>\n",
       "      <th>2</th>\n",
       "      <td>3</td>\n",
       "      <td>Manager</td>\n",
       "      <td>HR</td>\n",
       "      <td>29</td>\n",
       "      <td>5.4</td>\n",
       "      <td>81787.00</td>\n",
       "      <td>87054.08</td>\n",
       "      <td>2</td>\n",
       "      <td>2.78</td>\n",
       "      <td>9.31</td>\n",
       "      <td>Bachelor's</td>\n",
       "      <td>No</td>\n",
       "      <td>Medium</td>\n",
       "      <td>Yes</td>\n",
       "      <td>Male</td>\n",
       "      <td>Medium</td>\n",
       "    </tr>\n",
       "    <tr>\n",
       "      <th>3</th>\n",
       "      <td>4</td>\n",
       "      <td>Tester</td>\n",
       "      <td>Finance</td>\n",
       "      <td>25</td>\n",
       "      <td>13.8</td>\n",
       "      <td>76381.86</td>\n",
       "      <td>81076.92</td>\n",
       "      <td>2</td>\n",
       "      <td>2.69</td>\n",
       "      <td>21.67</td>\n",
       "      <td>Master's</td>\n",
       "      <td>No</td>\n",
       "      <td>Medium</td>\n",
       "      <td>No</td>\n",
       "      <td>Male</td>\n",
       "      <td>Large</td>\n",
       "    </tr>\n",
       "    <tr>\n",
       "      <th>4</th>\n",
       "      <td>5</td>\n",
       "      <td>Developer</td>\n",
       "      <td>Finance</td>\n",
       "      <td>27</td>\n",
       "      <td>6.6</td>\n",
       "      <td>55495.36</td>\n",
       "      <td>61911.58</td>\n",
       "      <td>2</td>\n",
       "      <td>5.00</td>\n",
       "      <td>3.04</td>\n",
       "      <td>Bachelor's</td>\n",
       "      <td>No</td>\n",
       "      <td>Medium</td>\n",
       "      <td>Yes</td>\n",
       "      <td>Male</td>\n",
       "      <td>Small</td>\n",
       "    </tr>\n",
       "  </tbody>\n",
       "</table>\n",
       "</div>"
      ],
      "text/plain": [
       "   EmployeeID    JobRole Department  Age  YearsExperience  \\\n",
       "0           1  Developer         IT   27              4.2   \n",
       "1           2    Analyst         HR   26              3.2   \n",
       "2           3    Manager         HR   29              5.4   \n",
       "3           4     Tester    Finance   25             13.8   \n",
       "4           5  Developer    Finance   27              6.6   \n",
       "\n",
       "   SalaryBeforeTraining  SalaryAfterTraining  NumberOfProjects  \\\n",
       "0              46241.46             51625.56                 1   \n",
       "1              81406.22             85787.99                 2   \n",
       "2              81787.00             87054.08                 2   \n",
       "3              76381.86             81076.92                 2   \n",
       "4              55495.36             61911.58                 2   \n",
       "\n",
       "   PerformanceScore  TrainingHours EducationLevel RemoteWork  \\\n",
       "0              2.29           5.22    High School        Yes   \n",
       "1              1.74          16.09       Master's        Yes   \n",
       "2              2.78           9.31     Bachelor's         No   \n",
       "3              2.69          21.67       Master's         No   \n",
       "4              5.00           3.04     Bachelor's         No   \n",
       "\n",
       "  SatisfactionLevel Certification  Gender DepartmentSize  \n",
       "0            Medium           Yes  Female          Small  \n",
       "1               Low            No    Male         Medium  \n",
       "2            Medium           Yes    Male         Medium  \n",
       "3            Medium            No    Male          Large  \n",
       "4            Medium           Yes    Male          Small  "
      ]
     },
     "execution_count": 37,
     "metadata": {},
     "output_type": "execute_result"
    }
   ],
   "source": [
    "import pandas as pd\n",
    "import numpy as np\n",
    "from scipy import stats\n",
    "import seaborn as sns\n",
    "import matplotlib.pyplot as plt\n",
    "\n",
    "# Cargar el dataset\n",
    "df = pd.read_csv('software_engineering.csv')\n",
    "df.head()"
   ]
  },
  {
   "cell_type": "code",
   "execution_count": 38,
   "id": "2bfc2f59",
   "metadata": {},
   "outputs": [
    {
     "name": "stdout",
     "output_type": "stream",
     "text": [
      "Promedio con certificación: 4.831782945736434\n",
      "Promedio sin certificación: 5.9865497076023395\n",
      "Shapiro con certificación: ShapiroResult(statistic=np.float64(0.820643415670503), pvalue=np.float64(2.995947463441282e-11))\n",
      "Shapiro sin certificación: ShapiroResult(statistic=np.float64(0.8514345418755421), pvalue=np.float64(6.790860773372827e-12))\n",
      "Levene: LeveneResult(statistic=np.float64(3.89584654557574), pvalue=np.float64(0.04932909337951624))\n",
      "t-student: -1.9104603123297665 p-valor: 0.05703846943011048\n",
      "No hay diferencia significativa en los años de experiencia promedio entre empleados con y sin certificación.\n"
     ]
    }
   ],
   "source": [
    "# Separar los grupos según certificación\n",
    "exp_cert = df[df['Certification'] == 'Yes']['YearsExperience']\n",
    "exp_no_cert = df[df['Certification'] == 'No']['YearsExperience']\n",
    "\n",
    "# Estadísticas descriptivas\n",
    "print('Promedio con certificación:', exp_cert.mean())\n",
    "print('Promedio sin certificación:', exp_no_cert.mean())\n",
    "\n",
    "# Prueba de normalidad\n",
    "print('Shapiro con certificación:', stats.shapiro(exp_cert))\n",
    "print('Shapiro sin certificación:', stats.shapiro(exp_no_cert))\n",
    "\n",
    "# Prueba de igualdad de varianzas\n",
    "print('Levene:', stats.levene(exp_cert, exp_no_cert))\n",
    "\n",
    "# Prueba t de Student para muestras independientes\n",
    "t_stat, p_val = stats.ttest_ind(exp_cert, exp_no_cert, equal_var=False)\n",
    "print('t-student:', t_stat, 'p-valor:', p_val)\n",
    "\n",
    "# Conclusión\n",
    "if p_val < 0.05:\n",
    "    print('Hay diferencia significativa en los años de experiencia promedio entre empleados con y sin certificación.')\n",
    "else:\n",
    "    print('No hay diferencia significativa en los años de experiencia promedio entre empleados con y sin certificación.')"
   ]
  },
  {
   "cell_type": "code",
   "execution_count": 39,
   "id": "87f2d649",
   "metadata": {},
   "outputs": [
    {
     "name": "stdout",
     "output_type": "stream",
     "text": [
      "Tipo de empleado con salario más bajo antes de la capacitación:\n",
      "JobRole: Developer\n",
      "Department: Operations\n",
      "Salario: 30000.0\n"
     ]
    }
   ],
   "source": [
    "# Buscar el tipo de empleado con el salario más bajo antes de la capacitación\n",
    "min_salary_row = df.loc[df['SalaryBeforeTraining'].idxmin()]\n",
    "print('Tipo de empleado con salario más bajo antes de la capacitación:')\n",
    "print('JobRole:', min_salary_row['JobRole'])\n",
    "print('Department:', min_salary_row['Department'])\n",
    "print('Salario:', min_salary_row['SalaryBeforeTraining'])"
   ]
  },
  {
   "cell_type": "code",
   "execution_count": 40,
   "id": "a68f36cb",
   "metadata": {},
   "outputs": [
    {
     "name": "stdout",
     "output_type": "stream",
     "text": [
      "Shapiro diferencia: ShapiroResult(statistic=np.float64(0.9968713412741266), pvalue=np.float64(0.8294919505765852))\n",
      "t-student pareada: 44.36151813091807 p-valor: 1.4745936284179963e-133\n",
      "Existen diferencias significativas en los salarios promedios antes y después de la capacitación.\n"
     ]
    }
   ],
   "source": [
    "# Prueba de normalidad para la diferencia\n",
    "salary_diff = df['SalaryAfterTraining'] - df['SalaryBeforeTraining']\n",
    "print('Shapiro diferencia:', stats.shapiro(salary_diff))\n",
    "\n",
    "# Prueba t para muestras relacionadas (pareadas)\n",
    "t_stat, p_val = stats.ttest_rel(df['SalaryAfterTraining'], df['SalaryBeforeTraining'])\n",
    "print('t-student pareada:', t_stat, 'p-valor:', p_val)\n",
    "\n",
    "# Conclusión\n",
    "if p_val < 0.05:\n",
    "    print('Existen diferencias significativas en los salarios promedios antes y después de la capacitación.')\n",
    "else:\n",
    "    print('No existen diferencias significativas en los salarios promedios antes y después de la capacitación.')"
   ]
  },
  {
   "cell_type": "code",
   "execution_count": 41,
   "id": "4d7c7fa8",
   "metadata": {},
   "outputs": [
    {
     "name": "stdout",
     "output_type": "stream",
     "text": [
      "Promedio horas con certificación: 20.807286821705425\n",
      "Promedio horas sin certificación: 17.843157894736844\n",
      "Shapiro con certificación: ShapiroResult(statistic=np.float64(0.7677475698689027), pvalue=np.float64(5.195984345620387e-13))\n",
      "Shapiro sin certificación: ShapiroResult(statistic=np.float64(0.8561339322050057), pvalue=np.float64(1.1240109833412898e-11))\n",
      "Levene: LeveneResult(statistic=np.float64(1.4030553674769988), pvalue=np.float64(0.23715652215755817))\n",
      "t-student: 1.2761966645138128 p-valor: 0.20316116037531556\n",
      "Las horas de capacitación entre empleados con y sin certificación son similares.\n"
     ]
    }
   ],
   "source": [
    "# Separar los grupos según certificación\n",
    "train_cert = df[df['Certification'] == 'Yes']['TrainingHours']\n",
    "train_no_cert = df[df['Certification'] == 'No']['TrainingHours']\n",
    "\n",
    "# Estadísticas descriptivas\n",
    "print('Promedio horas con certificación:', train_cert.mean())\n",
    "print('Promedio horas sin certificación:', train_no_cert.mean())\n",
    "\n",
    "# Prueba de normalidad\n",
    "print('Shapiro con certificación:', stats.shapiro(train_cert))\n",
    "print('Shapiro sin certificación:', stats.shapiro(train_no_cert))\n",
    "\n",
    "# Prueba de igualdad de varianzas\n",
    "print('Levene:', stats.levene(train_cert, train_no_cert))\n",
    "\n",
    "# Prueba t de Student para muestras independientes\n",
    "t_stat, p_val = stats.ttest_ind(train_cert, train_no_cert, equal_var=False)\n",
    "print('t-student:', t_stat, 'p-valor:', p_val)\n",
    "\n",
    "# Conclusión\n",
    "if p_val < 0.05:\n",
    "    print('Las horas de capacitación entre empleados con y sin certificación son diferentes.')\n",
    "else:\n",
    "    print('Las horas de capacitación entre empleados con y sin certificación son similares.')"
   ]
  },
  {
   "cell_type": "code",
   "execution_count": 42,
   "id": "b84bd6f6",
   "metadata": {},
   "outputs": [
    {
     "name": "stdout",
     "output_type": "stream",
     "text": [
      "Empleados con más horas de capacitación:\n",
      "     EmployeeID    JobRole  Department  TrainingHours\n",
      "53           54    Manager          IT         154.47\n",
      "118         119    Manager     Finance          92.32\n",
      "207         208     Tester  Operations          82.17\n",
      "193         194     Tester          IT          78.82\n",
      "250         251  Developer          HR          70.91\n"
     ]
    }
   ],
   "source": [
    "# Empleados con más horas de capacitación\n",
    "top_training = df.sort_values('TrainingHours', ascending=False).head(5)\n",
    "print('Empleados con más horas de capacitación:')\n",
    "print(top_training[['EmployeeID', 'JobRole', 'Department', 'TrainingHours']])"
   ]
  },
  {
   "cell_type": "code",
   "execution_count": 43,
   "id": "42b17acf",
   "metadata": {},
   "outputs": [
    {
     "name": "stdout",
     "output_type": "stream",
     "text": [
      "Edad promedio por JobRole y Department:\n",
      "Department    Finance         HR         IT  Operations\n",
      "JobRole                                                \n",
      "Analyst     30.000000  29.333333  30.285714   27.333333\n",
      "Developer   29.920000  31.086957  30.326087   28.828571\n",
      "Manager     29.090909  29.642857  29.384615   28.090909\n",
      "Tester      28.882353  30.000000  28.862069   30.000000\n",
      "Chi2: 6.039521380672168 p-valor: 0.7359563949134518\n",
      "Residuos estandarizados:\n",
      "Department   Finance        HR        IT  Operations\n",
      "JobRole                                             \n",
      "Analyst     0.124224  0.208747  0.864784   -1.421030\n",
      "Developer  -0.073458 -0.305004 -0.490609    0.978517\n",
      "Manager    -0.341744  0.646815  0.458110   -0.863292\n",
      "Tester      0.319339 -0.307794 -0.300965    0.373002\n"
     ]
    },
    {
     "data": {
      "image/png": "[encoded data removed]",
      "text/plain": [
       "<Figure size 800x600 with 2 Axes>"
      ]
     },
     "metadata": {},
     "output_type": "display_data"
    },
    {
     "name": "stdout",
     "output_type": "stream",
     "text": [
      "No existe asociación significativa entre JobRole y Department.\n",
      "No hay residuos estandarizados significativos; ninguna celda contribuye de forma destacada a la asociación.\n"
     ]
    }
   ],
   "source": [
    "# Crear tabla de contingencia de edad promedio por JobRole y Department\n",
    "pivot = df.pivot_table(index='JobRole', columns='Department', values='Age', aggfunc='mean')\n",
    "print('Edad promedio por JobRole y Department:')\n",
    "print(pivot)\n",
    "\n",
    "# Para asociación, creamos una tabla de frecuencias\n",
    "contingency = pd.crosstab(df['JobRole'], df['Department'])\n",
    "\n",
    "# Prueba de chi2\n",
    "chi2, p, dof, expected = stats.chi2_contingency(contingency)\n",
    "print('Chi2:', chi2, 'p-valor:', p)\n",
    "\n",
    "# Calcular residuos estandarizados\n",
    "residuals = (contingency - expected) / np.sqrt(expected)\n",
    "print('Residuos estandarizados:')\n",
    "print(residuals)\n",
    "\n",
    "# Visualización de residuos\n",
    "plt.figure(figsize=(8,6))\n",
    "sns.heatmap(residuals, annot=True, cmap='coolwarm', center=0)\n",
    "plt.title('Residuos estandarizados: JobRole vs Department')\n",
    "plt.show()\n",
    "\n",
    "# Conclusión\n",
    "if p < 0.05:\n",
    "    print('Existe asociación significativa entre JobRole y Department.')\n",
    "else:\n",
    "    print('No existe asociación significativa entre JobRole y Department.')\n",
    "\n",
    "# Identificar celdas con residuos estandarizados significativos\n",
    "significativo = np.abs(residuals) > 2\n",
    "\n",
    "# Crear un DataFrame que muestre el residuo solo si es significativo\n",
    "if significativo.any().any():\n",
    "    residuos_significativos = residuals.where(significativo).dropna(how='all').dropna(axis=1, how='all')\n",
    "    print('Residuos estandarizados significativos (|residuo| > 2):')\n",
    "    print(residuos_significativos)\n",
    "    print('Estas celdas contribuyen significativamente a la asociación entre JobRole y Department.')\n",
    "else:\n",
    "    print('No hay residuos estandarizados significativos; ninguna celda contribuye de forma destacada a la asociación.')"
   ]
  }
 ],
 "metadata": {
  "kernelspec": {
   "display_name": ".venv",
   "language": "python",
   "name": "python3"
  },
  "language_info": {
   "codemirror_mode": {
    "name": "ipython",
    "version": 3
   },
   "file_extension": ".py",
   "mimetype": "text/x-python",
   "name": "python",
   "nbconvert_exporter": "python",
   "pygments_lexer": "ipython3",
   "version": "3.12.9"
  }
 },
 "nbformat": 4,
 "nbformat_minor": 5
}
