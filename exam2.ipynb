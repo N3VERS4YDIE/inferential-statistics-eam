{
 "cells": [
  {
   "cell_type": "code",
   "execution_count": 135,
   "id": "ab9fc8d7",
   "metadata": {},
   "outputs": [],
   "source": [
    "import random\n",
    "import numpy as np\n",
    "import pandas as pd\n",
    "import matplotlib.pyplot as plt\n",
    "import seaborn as sns\n",
    "import scipy.stats as st"
   ]
  },
  {
   "cell_type": "code",
   "execution_count": 136,
   "id": "140d808d",
   "metadata": {},
   "outputs": [],
   "source": [
    "df = pd.read_csv(\"iris.csv\")"
   ]
  },
  {
   "cell_type": "markdown",
   "id": "1f6887da",
   "metadata": {},
   "source": [
    "Segmentar el dataseet por las 3 especies"
   ]
  },
  {
   "cell_type": "code",
   "execution_count": 137,
   "id": "9f5a07e1",
   "metadata": {},
   "outputs": [],
   "source": [
    "setosa = df[df['species'] == 'setosa']\n",
    "versicolor = df[df['species'] == 'versicolor']\n",
    "virginica = df[df['species'] == 'virginica']"
   ]
  },
  {
   "cell_type": "code",
   "execution_count": 138,
   "id": "ff1c1fe3",
   "metadata": {},
   "outputs": [
    {
     "name": "stdout",
     "output_type": "stream",
     "text": [
      "\n",
      "Pruebas de normalidad Kolmogorov-Smirnov para Setosa:\n",
      "setosa - sepal_length: KS=0.11485990669608126, p=0.4889236515009082, Es normal\n",
      "setosa - sepal_width: KS=0.1046775427493375, p=0.6063994576636074, Es normal\n",
      "setosa - petal_length: KS=0.15339772542922858, p=0.17116431635423157, Es normal\n",
      "setosa - petal_width: KS=0.34876021352999365, p=6.112604027547672e-06, No es normal\n",
      "\n",
      "Pruebas de normalidad Kolmogorov-Smirnov para Versicolor:\n",
      "versicolor - sepal_length: KS=0.09624091191683509, p=0.7071234035717402, Es normal\n",
      "versicolor - sepal_width: KS=0.12066503937554096, p=0.4268879944935553, Es normal\n",
      "versicolor - petal_length: KS=0.11712123583515, p=0.4642415222366043, Es normal\n",
      "versicolor - petal_width: KS=0.14769884819804674, p=0.20411175624782862, Es normal\n",
      "\n",
      "Pruebas de normalidad Kolmogorov-Smirnov para Virginica:\n",
      "virginica - sepal_length: KS=0.11503428728233644, p=0.48699833606145904, Es normal\n",
      "virginica - sepal_width: KS=0.12787168429870388, p=0.35646979248643473, Es normal\n",
      "virginica - petal_length: KS=0.11360588567240326, p=0.5028719892334554, Es normal\n",
      "virginica - petal_width: KS=0.1207713597677399, p=0.4257938210753581, Es normal\n",
      "\n",
      "Pruebas de normalidad Shapiro-Wilk para Setosa:\n",
      "setosa - sepal_length: W=0.977698549796646, p=0.4595131499174534, Es normal\n",
      "setosa - sepal_width: W=0.9717195199560363, p=0.27152639563455816, Es normal\n",
      "setosa - petal_length: W=0.9549767850318988, p=0.0548114671955363, Es normal\n",
      "setosa - petal_width: W=0.7997644574472085, p=8.658572739428681e-07, No es normal\n",
      "\n",
      "Pruebas de normalidad Shapiro-Wilk para Versicolor:\n",
      "versicolor - sepal_length: W=0.9778356785897521, p=0.4647370359250263, Es normal\n",
      "versicolor - sepal_width: W=0.9741332819702798, p=0.3379951061741378, Es normal\n",
      "versicolor - petal_length: W=0.96600440254332, p=0.15847783815657573, Es normal\n",
      "versicolor - petal_width: W=0.9476263359557384, p=0.027277803876105258, No es normal\n",
      "\n",
      "Pruebas de normalidad Shapiro-Wilk para Virginica:\n",
      "virginica - sepal_length: W=0.971179397111026, p=0.25831474614079086, Es normal\n",
      "virginica - sepal_width: W=0.9673905311257006, p=0.18089604109069918, Es normal\n",
      "virginica - petal_length: W=0.9621864428612802, p=0.10977536903223506, Es normal\n",
      "virginica - petal_width: W=0.9597714702389373, p=0.08695418729093361, Es normal\n"
     ]
    },
    {
     "data": {
      "text/plain": [
       "{'sepal_length': (np.float64(0.971179397111026),\n",
       "  np.float64(0.25831474614079086),\n",
       "  'Es normal'),\n",
       " 'sepal_width': (np.float64(0.9673905311257006),\n",
       "  np.float64(0.18089604109069918),\n",
       "  'Es normal'),\n",
       " 'petal_length': (np.float64(0.9621864428612802),\n",
       "  np.float64(0.10977536903223506),\n",
       "  'Es normal'),\n",
       " 'petal_width': (np.float64(0.9597714702389373),\n",
       "  np.float64(0.08695418729093361),\n",
       "  'Es normal')}"
      ]
     },
     "execution_count": 138,
     "metadata": {},
     "output_type": "execute_result"
    }
   ],
   "source": [
    "ks_setosa, p_setosa = st.kstest(setosa['sepal_length'], 'norm', args=(setosa['sepal_length'].mean(), setosa['sepal_length'].std()))\n",
    "ks_versicolor, p_versicolor = st.kstest(versicolor['sepal_length'], 'norm', args=(versicolor['sepal_length'].mean(), versicolor['sepal_length'].std()))\n",
    "ks_virginica, p_virginica = st.kstest(virginica['sepal_length'], 'norm', args=(virginica['sepal_length'].mean(), virginica['sepal_length'].std()))\n",
    "\n",
    "def is_normal(p_value):\n",
    "    return \"Es normal\" if p_value > 0.05 else \"No es normal\"\n",
    "\n",
    "def ks_test(specie_df):\n",
    "    results = {}\n",
    "    for column in specie_df.columns[:-1]: # Exclude 'species' column\n",
    "        ks_stat, p_value = st.kstest(specie_df[column], 'norm', args=(specie_df[column].mean(), specie_df[column].std()))\n",
    "        results[column] = (ks_stat, p_value, is_normal(p_value))\n",
    "        \n",
    "        print(f\"{specie_df['species'].iloc[0]} - {column}: KS={ks_stat}, p={p_value}, {is_normal(p_value)}\")\n",
    "    return results\n",
    "\n",
    "def shapiro_test(specie_df):\n",
    "    results = {}\n",
    "    for column in specie_df.columns[:-1]: # Exclude 'species' column\n",
    "        stat, p_value = st.shapiro(specie_df[column])\n",
    "        results[column] = (stat, p_value, is_normal(p_value))\n",
    "        \n",
    "        print(f\"{specie_df['species'].iloc[0]} - {column}: W={stat}, p={p_value}, {is_normal(p_value)}\")\n",
    "    return results\n",
    "\n",
    "print(\"\\nPruebas de normalidad Kolmogorov-Smirnov para Setosa:\")\n",
    "ks_test(setosa)\n",
    "print(\"\\nPruebas de normalidad Kolmogorov-Smirnov para Versicolor:\")\n",
    "ks_test(versicolor)\n",
    "print(\"\\nPruebas de normalidad Kolmogorov-Smirnov para Virginica:\")\n",
    "ks_test(virginica)\n",
    "\n",
    "print(\"\\nPruebas de normalidad Shapiro-Wilk para Setosa:\")\n",
    "shapiro_test(setosa)\n",
    "print(\"\\nPruebas de normalidad Shapiro-Wilk para Versicolor:\")\n",
    "shapiro_test(versicolor)\n",
    "print(\"\\nPruebas de normalidad Shapiro-Wilk para Virginica:\")\n",
    "shapiro_test(virginica)\n"
   ]
  },
  {
   "cell_type": "code",
   "execution_count": 139,
   "metadata": {},
   "outputs": [
    {
     "name": "stdout",
     "output_type": "stream",
     "text": [
      "\n",
      "Intervalos de confianza para Setosa:\n",
      "Al 95% la media de setosa para sepal_length está entre: 4.870 y 5.104\n",
      "Al 95% la media de setosa para sepal_width está entre: 3.315 y 3.612\n",
      "Al 95% la media de setosa para petal_length está entre: 1.424 y 1.543\n",
      "Al 95% la media de setosa para petal_width está entre: 0.206 y 0.274\n",
      "\n",
      "Intervalos de confianza para Versicolor:\n",
      "Al 95% la media de versicolor para sepal_length está entre: 5.688 y 6.045\n",
      "Al 95% la media de versicolor para sepal_width está entre: 2.646 y 2.854\n",
      "Al 95% la media de versicolor para petal_length está entre: 4.096 y 4.418\n",
      "Al 95% la media de versicolor para petal_width está entre: 1.253 y 1.394\n",
      "\n",
      "Intervalos de confianza para Virginica:\n",
      "Al 95% la media de virginica para sepal_length está entre: 6.344 y 6.789\n",
      "Al 95% la media de virginica para sepal_width está entre: 2.822 y 3.071\n",
      "Al 95% la media de virginica para petal_length está entre: 5.263 y 5.697\n",
      "Al 95% la media de virginica para petal_width está entre: 1.996 y 2.177\n"
     ]
    },
    {
     "data": {
      "text/plain": [
       "{'sepal_length': (np.float64(6.344281358226289),\n",
       "  np.float64(6.789051975107042)),\n",
       " 'sepal_width': (np.float64(2.8221122505044947),\n",
       "  np.float64(3.071221082828839)),\n",
       " 'petal_length': (np.float64(5.262845582205175),\n",
       "  np.float64(5.697154417794826)),\n",
       " 'petal_width': (np.float64(1.996265627123997), np.float64(2.177067706209335))}"
      ]
     },
     "execution_count": 139,
     "metadata": {},
     "output_type": "execute_result"
    }
   ],
   "source": [
    "np.random.seed(42)\n",
    "\n",
    "def confidence_intervals(specie_df, n=30):\n",
    "    results = {}\n",
    "    for column in specie_df.columns[:-1]:  # Exclude 'spe   cies' column\n",
    "        muestra = specie_df[column].sample(n=n)\n",
    "        media = np.mean(muestra)\n",
    "        desviacion = np.std(muestra)\n",
    "        \n",
    "        lim_inf = media - st.norm.ppf(0.975) * (desviacion / np.sqrt(len(muestra)))\n",
    "        lim_sup = media + st.norm.ppf(0.975) * (desviacion / np.sqrt(len(muestra)))\n",
    "        \n",
    "        results[column] = (lim_inf, lim_sup)\n",
    "        \n",
    "        print(f\"Al 95% la media de {specie_df['species'].iloc[0]} para {column} está entre: {lim_inf:.3f} y {lim_sup:.3f}\")\n",
    "    return results\n",
    "\n",
    "print(\"\\nIntervalos de confianza para Setosa:\")\n",
    "confidence_intervals(setosa)\n",
    "print(\"\\nIntervalos de confianza para Versicolor:\")\n",
    "confidence_intervals(versicolor)\n",
    "print(\"\\nIntervalos de confianza para Virginica:\")\n",
    "confidence_intervals(virginica)"
   ]
  },
  {
   "cell_type": "markdown",
   "id": "2cda950b",
   "metadata": {},
   "source": [
    "1.¿Cuáles intervalos por variable y especie se solapan?\n",
    "\n",
    "Para la variable petal_width, los intervalos de confianza al 95% por especie son:\n",
    "Setosa:      0.168 a 0.268\n",
    "Versicolor:  1.162 a 1.386\n",
    "Virginica:   1.890 a 2.198\n",
    "\n",
    "Ninguno de los intervalos se solapan\n",
    "\n",
    "2.¿Cuáles intervalos por variable y especie no se solapan?\n",
    "\n",
    "Todos los pares de especies presentan intervalos distintos:\n",
    "- Setosa vs Versicolor\n",
    "- Setosa vs Virginica\n",
    "- Versicolor vs Virginica\n",
    "\n",
    "todos los intervalos no se solapan\n",
    "\n",
    "3.¿Qué podemos decir de los intervalos que se solapan?\n",
    "\n",
    "Como no hay intervalos que se solapen, podemos concluir que:\n",
    "La variable petal_width permite distinguir claramente entre las tres especies de iris.\n",
    "Es un buen predictor o clasificador para separar las especies o clasificarlas."
   ]
  }
 ],
 "metadata": {
  "kernelspec": {
   "display_name": ".venv",
   "language": "python",
   "name": "python3"
  },
  "language_info": {
   "codemirror_mode": {
    "name": "ipython",
    "version": 3
   },
   "file_extension": ".py",
   "mimetype": "text/x-python",
   "name": "python",
   "nbconvert_exporter": "python",
   "pygments_lexer": "ipython3",
   "version": "3.12.9"
  }
 },
 "nbformat": 4,
 "nbformat_minor": 5
}
